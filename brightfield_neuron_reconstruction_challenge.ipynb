{
  "nbformat": 4,
  "nbformat_minor": 0,
  "metadata": {
    "colab": {
      "name": "brightfield_neuron_reconstruction_challenge.ipynb",
      "provenance": []
    },
    "kernelspec": {
      "name": "python3",
      "display_name": "Python 3"
    }
  },
  "cells": [
    {
      "cell_type": "markdown",
      "metadata": {
        "id": "UHFoENqqYV65",
        "colab_type": "text"
      },
      "source": [
        "# Brightfield neuron reconstruction challenge\n",
        "\n",
        "## Related notebooks\n",
        "This notebook is the main index page for a bunch of other notebooks. This document is just introductory text; the others are software tools. They are:\n",
        "- SWC Evalutator: [brightfield_skeleton_juxtaposer.ipynb](https://colab.research.google.com/drive/1Hj7r49ObIht5YOK6Scz61BxFkFoN76pB#scrollTo=kDsVnYFtIKpa)\n",
        "- U-Net:\n",
        "  - U-Net method: [brightfield_neuron_swc_by_unet_on_colab.ipynb](https://colab.research.google.com/drive/1mbxnqpaU8l17yayCdW-LlYbHb-yXQvqO#scrollTo=TsepXS09_0Qs)\n",
        "\n",
        "- ShuTu:\n",
        "  - ShuTu on Colab installer: [install_shutu_on_colab.ipynb](https://colab.research.google.com/drive/1wRnt5ceTs2Oau4g_BiYv09ZOLbv3cyWI#scrollTo=Q1eCY1mvHbCr) \n",
        "  - ShuTu SWC generator: [brightfield_neuron_swc_by_shutu.ipynb](https://colab.research.google.com/drive/1zdTS1HsAqdH5p4sk42TC6-uFM7f7XUdA#scrollTo=8aBV9zEcLJHm)\n",
        "  - ShuTu on Colab confirmation: [test_install_of_shutu_on_colab.ipynb](https://colab.research.google.com/drive/1PQEWuFjUi3vo-1btNi6M5vXoNS3dTv5o#scrollTo=qQ5T40Rh0gJk)\n",
        "    - First attempts to prove that ShuTu runs on Colab\n",
        "\n",
        "\n",
        "## Status\n",
        "For full details see the GitHub project, [Recreate challenge on Colab\n",
        "](https://github.com/reconstrue/brightfield_neuron_reconstruction/projects/1). \n",
        "\n",
        "The Colab-ify project comprises 4 small deliverables.\n",
        "\n",
        "Status as of Sat, 2019-10-12 night:\n",
        "  1. [x] Overview (this document): good enough for working title phase\n",
        "  1. [x] ShuTu reconstruction: working on Colab; its SWCs viewable with external tools. \n",
        "  4. [ ] Juxtaposer: not started at all\n",
        "  2. [ ] U-Net: 2nd method. Not started (GPU deploy?)\n",
        "  \n",
        "\n",
        "## Introduction\n",
        "For [the BioImage Informatics 2019 conference](https://alleninstitute.org/events-training/bioimage-informatics-2019/), the Allen Institute issued a [Brightfield Auto-Reconstruction Challenge](https://alleninstitute.org/events-training/bioimage-informatics-2019/reconstruction-competition/) as a sideshow to the main attraction. The idea was to explore the state of the art of brightfield microscopy neuron reconstruction algorithms. \n",
        "\n",
        "For the challenge, The Allen built out a dataset for use in an evalution competition. The dataset is about 2 terabytes in size, consisting mostly of raw brightfield microscopy image stacks from The Allen's data forges. The dataset also includes SWC files containing neuron skeletons manually traced by human experts, the so called gold standards i.e. the best answers as manually labeled (read: neurite tracing) by human beings doing hours of tedious data processing.\n",
        "\n",
        "The following image is taken from [the challenge's home page on alleninstitute.org](https://alleninstitute.org/events-training/bioimage-informatics-2019/reconstruction-competition/). It illustrates the objective of this exercise. \n",
        "\n",
        "<img src=\"https://alleninstitute.org/files/resources/1564545471/2651/\" alt=\"(c) Allen Institute\" width=\"400px\"/>\n",
        "\n",
        "In the above image, there are three pairs of images, each pair is vertically aligned, consisting of one grayscale camera image (the input) and one corresponding skeleton (the output) shown as the neon colored lines on a dark field. \n",
        "\n",
        "[**Note the illustrative over-simplification:** in actuality there is a stack of grayscale images (\"deli slices\") for each neuron that needs to be sifted through to generate a skeleton. In other words, even those three \"simple\" grayscale image are generated projections of the 3D image stack; thery are not raw TIFF files off some scope.]\n",
        "\n",
        "\n",
        "This collection of notebooks demonstrate – with live code – how to: \n",
        "1. Access the dataset\n",
        "2. Analyse the data to generate SWC skeleton files\n",
        "3. Juxtapose new reconstruction SWCs alongside manual gold standard SWCs\n",
        "\n",
        "\n",
        "\n"
      ]
    },
    {
      "cell_type": "markdown",
      "metadata": {
        "id": "fXUqajwjYdN1",
        "colab_type": "text"
      },
      "source": [
        "## Backgrounder\n",
        "### What is brightfield microscopy\n",
        "\n",
        "\"Brightfield\" is the term of art for old school microscopes wherein some foreground object of interest is stained dark (in this context: single biocytin stained neurons) and then imaged upon some essentially translucent background (or \"field\"). The field is bright (with light shining through) and the foreground is dark, ergo \"brigthfield.\"\n",
        "\n",
        "### Why is reconstruction an interesting problem\n",
        "\n",
        "Brightfield neuron reconsturction is an open image processing problem, and a limiting factor for science that is based on brightfield microscopy. \n",
        "\n",
        "Currently, brightfield neuron reconstruction involves manual labor comprising many hours of manually tracing skeletons from the raw brightfield image stacks. \n",
        "\n",
        "Note that brightfield microscopes are the most basic type of microscope, so solving this problem could enable many labs to \"science faster.\"\n",
        "\n",
        "### Why on Google Colab\n",
        "Colab is basically just Google hosting Jupyter notebooks for free, with a nice GPU as a bonus. The GPU is very useful because there is a 12 time limit to run code on Colab, so doing it faster is important.\n",
        "\n",
        "Deep neural networks can be GPU accellerated on Colab (e.g., [a YOLO net trained on Colab's GPU](https://dev.to/kriyeng/8-tips-for-google-colab-notebooks-to-take-advantage-of-their-free-of-charge-12gb-ram-gpu-be4)).\n",
        "\n",
        "Using Colab to demo brightfield reconstruction requires host NO servers, Google does that. Google sees Jupyter as a Python equivalent to Google Sheets running custom JavaScript.\n",
        "\n",
        "For this initial deploy of the challenge, the goal is for all software to run on Google Colab. After getting things working on Colab, subsequently getting JupyterLab running on Binder (Docker) is much simpler, trivial usually. So, if someone wants to experiment on their own hardware, the Binder deploy (**TBD**) is a great starting point.\n",
        "\n",
        "\n"
      ]
    },
    {
      "cell_type": "markdown",
      "metadata": {
        "id": "hvMFoPfbKQoP",
        "colab_type": "text"
      },
      "source": [
        "\n",
        "## Deliverables\n",
        "\n",
        "The main goal is to provide a starter kit for other folks to hack on in order to run their own reconstruction experiments and visualize the results compared to the human traced gold standard SWC files provided in the challenge dataset.\n",
        "\n",
        "As a starting point, this project seeks to recreate/approximate both types of SWC generators from the original challenge. Here though the SWC generating code will run on Colab (so that anyone can run – and hack on –  the experiment themselves for free on Google Colab).\n",
        "\n",
        "Currently this project looks like it can best be banged out as four interlinked Jupyter notebooks:\n",
        "\n",
        "1. This introductory page\n",
        "2. The juxtaposer, a tool for comparing SWC skeletons of a neuron\n",
        "3. A workbook for generating SWCs, via ShuTu\n",
        "4. A workbook for generating SWCs, via U-Net\n",
        "\n",
        "In response to the original BioImage 2019 challenge, there were two skeleton reconstruction methods that were initially evaluated:\n",
        "\n",
        "1. [Dezhe Jin's](https://www.phys.psu.edu/people/dzj2) ShuTu based solution\n",
        "2. [Olga Gliko's](https://alleninstitute.org/what-we-do/brain-science/about/team/staff-profiles/olga-gliko/) U-Net based solution\n",
        "\n",
        "It just makes sense to recreate both methodologies here on Colab.\n",
        "\n",
        "So there are three sub-projects: ShuTu, U-Net, and juxtaposer. \n",
        "\n",
        "Using the three together, pre-rendered SWCs can be quickly visualized, and for the curious there is code to start hacking on to (re)generate new SWCs which can then be evaluated. In other words, the SWCs will be pre-created on Colab for others to later quickly load and compare, but the more patient can recreate the SWCs on Colab themselves (or hopefully start innovating).\n",
        "\n"
      ]
    },
    {
      "cell_type": "markdown",
      "metadata": {
        "id": "YRjHP7PCFrhp",
        "colab_type": "text"
      },
      "source": [
        "### The brightfield skeleton juxtaposer\n",
        "\n",
        "The \"juxtaposer\" is simply a Jupyter notebook equivalent of the paper-based evalution system used in the original challenge. \n",
        "\n",
        "(This seems like it would be a useful reusable tool so why not?)\n",
        "\n",
        "This has become a stand-along tool, implemented as a separate notebook,\n",
        "[brightfield_skeleton_juxtaposer.ipynb](https://colab.research.google.com/drive/1Hj7r49ObIht5YOK6Scz61BxFkFoN76pB#scrollTo=kDsVnYFtIKpa), which is to be whatever UI can be deployed on Google Colab to juxtapose two SWC skeleton files.\n",
        "\n",
        "\n"
      ]
    },
    {
      "cell_type": "markdown",
      "metadata": {
        "id": "2Bk_D7jTF1Uq",
        "colab_type": "text"
      },
      "source": [
        "\n",
        "\n",
        "### The ShuTu experiment notebook\n",
        "\n",
        "<img src=\"http://personal.psu.edu/dzj2/ShuTu/ShuTu_cell_char.jpg\" width=\"400px\"/>\n",
        "\n",
        "See the sibling notebook, [ShuTu on Colab](https://colab.research.google.com/drive/1PQEWuFjUi3vo-1btNi6M5vXoNS3dTv5o#scrollTo=qQ5T40Rh0gJk), to see how ShuTu is used to generate SWC files from brightfield image stacks. \n",
        "\n",
        "Status: ShuTu CLI reconstruction code is working on Colab, as of 2019-10-12, with only a bit of finagling required to make it work. \n",
        "\n",
        "ShuTu desktop editor is a separate issue; it is desktop software, not web tech. But it is trivial to download a ShuTu generated SWC made on Colab, downloaded to localhost for ShuTu desktop editing, client-side. Nonetheless, a full web-tech solution would be very desirable... at least for viewing, if not full editing."
      ]
    },
    {
      "cell_type": "markdown",
      "metadata": {
        "id": "DJBUov2BYd4-",
        "colab_type": "text"
      },
      "source": [
        "### The U-Net notebook\n",
        "\n",
        "**[TBD: Not started on at all]**\n",
        "\n"
      ]
    }
  ]
}